{
 "cells": [
  {
   "cell_type": "code",
   "execution_count": 1,
   "id": "ad4d8308",
   "metadata": {},
   "outputs": [],
   "source": [
    "import numpy as np\n",
    "import pandas as pd\n",
    "import seaborn as sns\n",
    "import matplotlib.pyplot as plt\n",
    "import sklearn"
   ]
  },
  {
   "cell_type": "markdown",
   "id": "329d3b2f",
   "metadata": {},
   "source": [
    "# Linear Regression Before outliers handling"
   ]
  },
  {
   "cell_type": "code",
   "execution_count": 2,
   "id": "f7b17de7",
   "metadata": {},
   "outputs": [
    {
     "data": {
      "text/html": [
       "<div>\n",
       "<style scoped>\n",
       "    .dataframe tbody tr th:only-of-type {\n",
       "        vertical-align: middle;\n",
       "    }\n",
       "\n",
       "    .dataframe tbody tr th {\n",
       "        vertical-align: top;\n",
       "    }\n",
       "\n",
       "    .dataframe thead th {\n",
       "        text-align: right;\n",
       "    }\n",
       "</style>\n",
       "<table border=\"1\" class=\"dataframe\">\n",
       "  <thead>\n",
       "    <tr style=\"text-align: right;\">\n",
       "      <th></th>\n",
       "      <th>total_bill</th>\n",
       "      <th>tip</th>\n",
       "      <th>sex</th>\n",
       "      <th>smoker</th>\n",
       "      <th>day</th>\n",
       "      <th>time</th>\n",
       "      <th>size</th>\n",
       "    </tr>\n",
       "  </thead>\n",
       "  <tbody>\n",
       "    <tr>\n",
       "      <th>0</th>\n",
       "      <td>16.99</td>\n",
       "      <td>1.01</td>\n",
       "      <td>Female</td>\n",
       "      <td>No</td>\n",
       "      <td>Sun</td>\n",
       "      <td>Dinner</td>\n",
       "      <td>2</td>\n",
       "    </tr>\n",
       "    <tr>\n",
       "      <th>1</th>\n",
       "      <td>10.34</td>\n",
       "      <td>1.66</td>\n",
       "      <td>Male</td>\n",
       "      <td>No</td>\n",
       "      <td>Sun</td>\n",
       "      <td>Dinner</td>\n",
       "      <td>3</td>\n",
       "    </tr>\n",
       "    <tr>\n",
       "      <th>2</th>\n",
       "      <td>21.01</td>\n",
       "      <td>3.50</td>\n",
       "      <td>Male</td>\n",
       "      <td>No</td>\n",
       "      <td>Sun</td>\n",
       "      <td>Dinner</td>\n",
       "      <td>3</td>\n",
       "    </tr>\n",
       "    <tr>\n",
       "      <th>3</th>\n",
       "      <td>23.68</td>\n",
       "      <td>3.31</td>\n",
       "      <td>Male</td>\n",
       "      <td>No</td>\n",
       "      <td>Sun</td>\n",
       "      <td>Dinner</td>\n",
       "      <td>2</td>\n",
       "    </tr>\n",
       "    <tr>\n",
       "      <th>4</th>\n",
       "      <td>24.59</td>\n",
       "      <td>3.61</td>\n",
       "      <td>Female</td>\n",
       "      <td>No</td>\n",
       "      <td>Sun</td>\n",
       "      <td>Dinner</td>\n",
       "      <td>4</td>\n",
       "    </tr>\n",
       "    <tr>\n",
       "      <th>...</th>\n",
       "      <td>...</td>\n",
       "      <td>...</td>\n",
       "      <td>...</td>\n",
       "      <td>...</td>\n",
       "      <td>...</td>\n",
       "      <td>...</td>\n",
       "      <td>...</td>\n",
       "    </tr>\n",
       "    <tr>\n",
       "      <th>239</th>\n",
       "      <td>29.03</td>\n",
       "      <td>5.92</td>\n",
       "      <td>Male</td>\n",
       "      <td>No</td>\n",
       "      <td>Sat</td>\n",
       "      <td>Dinner</td>\n",
       "      <td>3</td>\n",
       "    </tr>\n",
       "    <tr>\n",
       "      <th>240</th>\n",
       "      <td>27.18</td>\n",
       "      <td>2.00</td>\n",
       "      <td>Female</td>\n",
       "      <td>Yes</td>\n",
       "      <td>Sat</td>\n",
       "      <td>Dinner</td>\n",
       "      <td>2</td>\n",
       "    </tr>\n",
       "    <tr>\n",
       "      <th>241</th>\n",
       "      <td>22.67</td>\n",
       "      <td>2.00</td>\n",
       "      <td>Male</td>\n",
       "      <td>Yes</td>\n",
       "      <td>Sat</td>\n",
       "      <td>Dinner</td>\n",
       "      <td>2</td>\n",
       "    </tr>\n",
       "    <tr>\n",
       "      <th>242</th>\n",
       "      <td>17.82</td>\n",
       "      <td>1.75</td>\n",
       "      <td>Male</td>\n",
       "      <td>No</td>\n",
       "      <td>Sat</td>\n",
       "      <td>Dinner</td>\n",
       "      <td>2</td>\n",
       "    </tr>\n",
       "    <tr>\n",
       "      <th>243</th>\n",
       "      <td>18.78</td>\n",
       "      <td>3.00</td>\n",
       "      <td>Female</td>\n",
       "      <td>No</td>\n",
       "      <td>Thur</td>\n",
       "      <td>Dinner</td>\n",
       "      <td>2</td>\n",
       "    </tr>\n",
       "  </tbody>\n",
       "</table>\n",
       "<p>244 rows × 7 columns</p>\n",
       "</div>"
      ],
      "text/plain": [
       "     total_bill   tip     sex smoker   day    time  size\n",
       "0         16.99  1.01  Female     No   Sun  Dinner     2\n",
       "1         10.34  1.66    Male     No   Sun  Dinner     3\n",
       "2         21.01  3.50    Male     No   Sun  Dinner     3\n",
       "3         23.68  3.31    Male     No   Sun  Dinner     2\n",
       "4         24.59  3.61  Female     No   Sun  Dinner     4\n",
       "..          ...   ...     ...    ...   ...     ...   ...\n",
       "239       29.03  5.92    Male     No   Sat  Dinner     3\n",
       "240       27.18  2.00  Female    Yes   Sat  Dinner     2\n",
       "241       22.67  2.00    Male    Yes   Sat  Dinner     2\n",
       "242       17.82  1.75    Male     No   Sat  Dinner     2\n",
       "243       18.78  3.00  Female     No  Thur  Dinner     2\n",
       "\n",
       "[244 rows x 7 columns]"
      ]
     },
     "execution_count": 2,
     "metadata": {},
     "output_type": "execute_result"
    }
   ],
   "source": [
    "df=sns.load_dataset(\"tips\")\n",
    "df"
   ]
  },
  {
   "cell_type": "code",
   "execution_count": 3,
   "id": "f657343c",
   "metadata": {},
   "outputs": [
    {
     "data": {
      "text/plain": [
       "total_bill    0\n",
       "tip           0\n",
       "sex           0\n",
       "smoker        0\n",
       "day           0\n",
       "time          0\n",
       "size          0\n",
       "dtype: int64"
      ]
     },
     "execution_count": 3,
     "metadata": {},
     "output_type": "execute_result"
    }
   ],
   "source": [
    "df.isnull().sum()"
   ]
  },
  {
   "cell_type": "markdown",
   "id": "060a0fcc",
   "metadata": {},
   "source": [
    "* No null values in the DataFrame"
   ]
  },
  {
   "cell_type": "code",
   "execution_count": 4,
   "id": "f1e03262",
   "metadata": {},
   "outputs": [
    {
     "data": {
      "text/html": [
       "<div>\n",
       "<style scoped>\n",
       "    .dataframe tbody tr th:only-of-type {\n",
       "        vertical-align: middle;\n",
       "    }\n",
       "\n",
       "    .dataframe tbody tr th {\n",
       "        vertical-align: top;\n",
       "    }\n",
       "\n",
       "    .dataframe thead th {\n",
       "        text-align: right;\n",
       "    }\n",
       "</style>\n",
       "<table border=\"1\" class=\"dataframe\">\n",
       "  <thead>\n",
       "    <tr style=\"text-align: right;\">\n",
       "      <th></th>\n",
       "      <th>count</th>\n",
       "      <th>mean</th>\n",
       "      <th>std</th>\n",
       "      <th>min</th>\n",
       "      <th>25%</th>\n",
       "      <th>50%</th>\n",
       "      <th>75%</th>\n",
       "      <th>max</th>\n",
       "    </tr>\n",
       "  </thead>\n",
       "  <tbody>\n",
       "    <tr>\n",
       "      <th>total_bill</th>\n",
       "      <td>244.0</td>\n",
       "      <td>19.785943</td>\n",
       "      <td>8.902412</td>\n",
       "      <td>3.07</td>\n",
       "      <td>13.3475</td>\n",
       "      <td>17.795</td>\n",
       "      <td>24.1275</td>\n",
       "      <td>50.81</td>\n",
       "    </tr>\n",
       "    <tr>\n",
       "      <th>tip</th>\n",
       "      <td>244.0</td>\n",
       "      <td>2.998279</td>\n",
       "      <td>1.383638</td>\n",
       "      <td>1.00</td>\n",
       "      <td>2.0000</td>\n",
       "      <td>2.900</td>\n",
       "      <td>3.5625</td>\n",
       "      <td>10.00</td>\n",
       "    </tr>\n",
       "    <tr>\n",
       "      <th>size</th>\n",
       "      <td>244.0</td>\n",
       "      <td>2.569672</td>\n",
       "      <td>0.951100</td>\n",
       "      <td>1.00</td>\n",
       "      <td>2.0000</td>\n",
       "      <td>2.000</td>\n",
       "      <td>3.0000</td>\n",
       "      <td>6.00</td>\n",
       "    </tr>\n",
       "  </tbody>\n",
       "</table>\n",
       "</div>"
      ],
      "text/plain": [
       "            count       mean       std   min      25%     50%      75%    max\n",
       "total_bill  244.0  19.785943  8.902412  3.07  13.3475  17.795  24.1275  50.81\n",
       "tip         244.0   2.998279  1.383638  1.00   2.0000   2.900   3.5625  10.00\n",
       "size        244.0   2.569672  0.951100  1.00   2.0000   2.000   3.0000   6.00"
      ]
     },
     "execution_count": 4,
     "metadata": {},
     "output_type": "execute_result"
    }
   ],
   "source": [
    "df.describe().T"
   ]
  },
  {
   "cell_type": "markdown",
   "id": "d34b0509",
   "metadata": {},
   "source": [
    "### plot the columns to check which column as good co-relation with target column"
   ]
  },
  {
   "cell_type": "code",
   "execution_count": 5,
   "id": "52f307b3",
   "metadata": {},
   "outputs": [
    {
     "data": {
      "text/plain": [
       "<AxesSubplot: xlabel='smoker', ylabel='tip'>"
      ]
     },
     "execution_count": 5,
     "metadata": {},
     "output_type": "execute_result"
    },
    {
     "data": {
      "image/png": "[encoded data removed]",
      "text/plain": [
       "<Figure size 1200x600 with 6 Axes>"
      ]
     },
     "metadata": {},
     "output_type": "display_data"
    }
   ],
   "source": [
    "plt.figure(figsize=(12,6))\n",
    "plt.subplot(2,3,1)\n",
    "sns.scatterplot(x=df[\"total_bill\"],y=df[\"tip\"])\n",
    "\n",
    "plt.subplot(2,3,2)\n",
    "sns.scatterplot(x=df[\"sex\"],y=df[\"tip\"])\n",
    "\n",
    "plt.subplot(2,3,3)\n",
    "sns.scatterplot(x=df[\"day\"],y=df[\"tip\"])\n",
    "\n",
    "\n",
    "plt.subplot(2,3,4)\n",
    "sns.scatterplot(x=df[\"time\"],y=df[\"tip\"])\n",
    "\n",
    "\n",
    "plt.subplot(2,3,5)\n",
    "sns.scatterplot(x=df[\"size\"],y=df[\"tip\"])\n",
    "\n",
    "\n",
    "plt.subplot(2,3,6)\n",
    "sns.scatterplot(x=df[\"smoker\"],y=df[\"tip\"])"
   ]
  },
  {
   "cell_type": "markdown",
   "id": "83e0287e",
   "metadata": {},
   "source": [
    "* from above plots we can see that `total_bill`,`sex`,`size`,`time`,`day` as good co-relation with target column\n",
    "* smoker has less coo-relation our target column\n",
    "* so we take `total_bill`,`sex`,`size`,`time`,`day` as predicating variables"
   ]
  },
  {
   "cell_type": "markdown",
   "id": "786886aa",
   "metadata": {},
   "source": [
    "* separting the data as `prediting coulmn` and `target column`"
   ]
  },
  {
   "cell_type": "code",
   "execution_count": 6,
   "id": "630aae4b",
   "metadata": {},
   "outputs": [],
   "source": [
    "X=df[[\"total_bill\",\"sex\",\"size\",\"time\",\"day\",\"smoker\"]]\n",
    "y=df[\"tip\"]"
   ]
  },
  {
   "cell_type": "markdown",
   "id": "cc125062",
   "metadata": {},
   "source": [
    "* spliting the data into train and test "
   ]
  },
  {
   "cell_type": "code",
   "execution_count": 7,
   "id": "8a7b9b27",
   "metadata": {},
   "outputs": [],
   "source": [
    "from sklearn.model_selection import train_test_split\n",
    "xTrain,xTest,yTrain,yTest=train_test_split(X,y,\n",
    "                                          test_size=0.23,random_state=23)"
   ]
  },
  {
   "cell_type": "code",
   "execution_count": 8,
   "id": "2e6bf18c",
   "metadata": {},
   "outputs": [
    {
     "data": {
      "text/plain": [
       "((187, 6), (57, 6), 187, 57)"
      ]
     },
     "execution_count": 8,
     "metadata": {},
     "output_type": "execute_result"
    }
   ],
   "source": [
    "xTrain.shape,xTest.shape,len(yTrain),len(yTest)"
   ]
  },
  {
   "cell_type": "markdown",
   "id": "71124824",
   "metadata": {},
   "source": [
    "* separate the  --> continuous\n",
    "                -->categorical\n",
    "                      ---> Ordinal data\n",
    "                      ---> Norminal data "
   ]
  },
  {
   "cell_type": "code",
   "execution_count": 9,
   "id": "4252e974",
   "metadata": {},
   "outputs": [],
   "source": [
    "contCol=[\"total_bill\"]\n",
    "ordcatcol=[\"size\"]\n",
    "norcatcol=[\"sex\",\"time\",\"day\",\"smoker\"]"
   ]
  },
  {
   "cell_type": "markdown",
   "id": "fa4e5c5a",
   "metadata": {},
   "source": [
    "#### importing neccessary libraries for pipeline and column transformer"
   ]
  },
  {
   "cell_type": "code",
   "execution_count": 10,
   "id": "806722dd",
   "metadata": {},
   "outputs": [],
   "source": [
    "from sklearn.pipeline import Pipeline\n",
    "from sklearn.compose import ColumnTransformer"
   ]
  },
  {
   "cell_type": "markdown",
   "id": "4efb1ca8",
   "metadata": {},
   "source": [
    "### creating pipeline"
   ]
  },
  {
   "cell_type": "code",
   "execution_count": 11,
   "id": "7e9533f0",
   "metadata": {},
   "outputs": [],
   "source": [
    "from sklearn.preprocessing import PowerTransformer,RobustScaler\n",
    "ContPipeline=Pipeline(steps=[\n",
    "    (\"YeoJohnsonTransformer\",PowerTransformer()),\n",
    "    (\"standardscalar\",RobustScaler())\n",
    "])"
   ]
  },
  {
   "cell_type": "code",
   "execution_count": 12,
   "id": "3d46eff8",
   "metadata": {},
   "outputs": [],
   "source": [
    "from sklearn.preprocessing import OrdinalEncoder\n",
    "OrdCatPipeline=Pipeline(steps=[\n",
    "    (\"Ordcatencode\",OrdinalEncoder(categories=[[1,2,3,4,5,6]]))\n",
    "])"
   ]
  },
  {
   "cell_type": "code",
   "execution_count": 13,
   "id": "8fe25741",
   "metadata": {},
   "outputs": [],
   "source": [
    "from sklearn.preprocessing import OneHotEncoder\n",
    "NorCatPipeline=Pipeline(steps=[\n",
    "    (\"norcatencode\",OneHotEncoder(sparse=False,handle_unknown=\"ignore\"))\n",
    "])"
   ]
  },
  {
   "cell_type": "code",
   "execution_count": 14,
   "id": "d34813c7",
   "metadata": {},
   "outputs": [],
   "source": [
    "#  To Display Pipeline\n",
    "from sklearn import set_config\n",
    "set_config(display='diagram')\n"
   ]
  },
  {
   "cell_type": "code",
   "execution_count": 15,
   "id": "59f36de7",
   "metadata": {},
   "outputs": [
    {
     "data": {
      "text/html": [
       "<style>#sk-ca6e3286-4584-4575-b957-6a3db655b0ae {color: black;background-color: white;}#sk-ca6e3286-4584-4575-b957-6a3db655b0ae pre{padding: 0;}#sk-ca6e3286-4584-4575-b957-6a3db655b0ae div.sk-toggleable {background-color: white;}#sk-ca6e3286-4584-4575-b957-6a3db655b0ae label.sk-toggleable__label {cursor: pointer;display: block;width: 100%;margin-bottom: 0;padding: 0.3em;box-sizing: border-box;text-align: center;}#sk-ca6e3286-4584-4575-b957-6a3db655b0ae label.sk-toggleable__label-arrow:before {content: \"▸\";float: left;margin-right: 0.25em;color: #696969;}#sk-ca6e3286-4584-4575-b957-6a3db655b0ae label.sk-toggleable__label-arrow:hover:before {color: black;}#sk-ca6e3286-4584-4575-b957-6a3db655b0ae div.sk-estimator:hover label.sk-toggleable__label-arrow:before {color: black;}#sk-ca6e3286-4584-4575-b957-6a3db655b0ae div.sk-toggleable__content {max-height: 0;max-width: 0;overflow: hidden;text-align: left;background-color: #f0f8ff;}#sk-ca6e3286-4584-4575-b957-6a3db655b0ae div.sk-toggleable__content pre {margin: 0.2em;color: black;border-radius: 0.25em;background-color: #f0f8ff;}#sk-ca6e3286-4584-4575-b957-6a3db655b0ae input.sk-toggleable__control:checked~div.sk-toggleable__content {max-height: 200px;max-width: 100%;overflow: auto;}#sk-ca6e3286-4584-4575-b957-6a3db655b0ae input.sk-toggleable__control:checked~label.sk-toggleable__label-arrow:before {content: \"▾\";}#sk-ca6e3286-4584-4575-b957-6a3db655b0ae div.sk-estimator input.sk-toggleable__control:checked~label.sk-toggleable__label {background-color: #d4ebff;}#sk-ca6e3286-4584-4575-b957-6a3db655b0ae div.sk-label input.sk-toggleable__control:checked~label.sk-toggleable__label {background-color: #d4ebff;}#sk-ca6e3286-4584-4575-b957-6a3db655b0ae input.sk-hidden--visually {border: 0;clip: rect(1px 1px 1px 1px);clip: rect(1px, 1px, 1px, 1px);height: 1px;margin: -1px;overflow: hidden;padding: 0;position: absolute;width: 1px;}#sk-ca6e3286-4584-4575-b957-6a3db655b0ae div.sk-estimator {font-family: monospace;background-color: #f0f8ff;border: 1px dotted black;border-radius: 0.25em;box-sizing: border-box;margin-bottom: 0.5em;}#sk-ca6e3286-4584-4575-b957-6a3db655b0ae div.sk-estimator:hover {background-color: #d4ebff;}#sk-ca6e3286-4584-4575-b957-6a3db655b0ae div.sk-parallel-item::after {content: \"\";width: 100%;border-bottom: 1px solid gray;flex-grow: 1;}#sk-ca6e3286-4584-4575-b957-6a3db655b0ae div.sk-label:hover label.sk-toggleable__label {background-color: #d4ebff;}#sk-ca6e3286-4584-4575-b957-6a3db655b0ae div.sk-serial::before {content: \"\";position: absolute;border-left: 1px solid gray;box-sizing: border-box;top: 2em;bottom: 0;left: 50%;}#sk-ca6e3286-4584-4575-b957-6a3db655b0ae div.sk-serial {display: flex;flex-direction: column;align-items: center;background-color: white;padding-right: 0.2em;padding-left: 0.2em;}#sk-ca6e3286-4584-4575-b957-6a3db655b0ae div.sk-item {z-index: 1;}#sk-ca6e3286-4584-4575-b957-6a3db655b0ae div.sk-parallel {display: flex;align-items: stretch;justify-content: center;background-color: white;}#sk-ca6e3286-4584-4575-b957-6a3db655b0ae div.sk-parallel::before {content: \"\";position: absolute;border-left: 1px solid gray;box-sizing: border-box;top: 2em;bottom: 0;left: 50%;}#sk-ca6e3286-4584-4575-b957-6a3db655b0ae div.sk-parallel-item {display: flex;flex-direction: column;position: relative;background-color: white;}#sk-ca6e3286-4584-4575-b957-6a3db655b0ae div.sk-parallel-item:first-child::after {align-self: flex-end;width: 50%;}#sk-ca6e3286-4584-4575-b957-6a3db655b0ae div.sk-parallel-item:last-child::after {align-self: flex-start;width: 50%;}#sk-ca6e3286-4584-4575-b957-6a3db655b0ae div.sk-parallel-item:only-child::after {width: 0;}#sk-ca6e3286-4584-4575-b957-6a3db655b0ae div.sk-dashed-wrapped {border: 1px dashed gray;margin: 0 0.4em 0.5em 0.4em;box-sizing: border-box;padding-bottom: 0.4em;background-color: white;position: relative;}#sk-ca6e3286-4584-4575-b957-6a3db655b0ae div.sk-label label {font-family: monospace;font-weight: bold;background-color: white;display: inline-block;line-height: 1.2em;}#sk-ca6e3286-4584-4575-b957-6a3db655b0ae div.sk-label-container {position: relative;z-index: 2;text-align: center;}#sk-ca6e3286-4584-4575-b957-6a3db655b0ae div.sk-container {/* jupyter's `normalize.less` sets `[hidden] { display: none; }` but bootstrap.min.css set `[hidden] { display: none !important; }` so we also need the `!important` here to be able to override the default hidden behavior on the sphinx rendered scikit-learn.org. See: https://github.com/scikit-learn/scikit-learn/issues/21755 */display: inline-block !important;position: relative;}#sk-ca6e3286-4584-4575-b957-6a3db655b0ae div.sk-text-repr-fallback {display: none;}</style><div id=\"sk-ca6e3286-4584-4575-b957-6a3db655b0ae\" class=\"sk-top-container\"><div class=\"sk-text-repr-fallback\"><pre>Pipeline(steps=[(&#x27;YeoJohnsonTransformer&#x27;, PowerTransformer()),\n",
       "                (&#x27;standardscalar&#x27;, RobustScaler())])</pre><b>Please rerun this cell to show the HTML repr or trust the notebook.</b></div><div class=\"sk-container\" hidden><div class=\"sk-item sk-dashed-wrapped\"><div class=\"sk-label-container\"><div class=\"sk-label sk-toggleable\"><input class=\"sk-toggleable__control sk-hidden--visually\" id=\"f5f4dffb-e2a1-46eb-a7c2-b62d96bc68f1\" type=\"checkbox\" ><label for=\"f5f4dffb-e2a1-46eb-a7c2-b62d96bc68f1\" class=\"sk-toggleable__label sk-toggleable__label-arrow\">Pipeline</label><div class=\"sk-toggleable__content\"><pre>Pipeline(steps=[(&#x27;YeoJohnsonTransformer&#x27;, PowerTransformer()),\n",
       "                (&#x27;standardscalar&#x27;, RobustScaler())])</pre></div></div></div><div class=\"sk-serial\"><div class=\"sk-item\"><div class=\"sk-estimator sk-toggleable\"><input class=\"sk-toggleable__control sk-hidden--visually\" id=\"584e2e7d-2f67-4ea5-99e0-347a6d00728e\" type=\"checkbox\" ><label for=\"584e2e7d-2f67-4ea5-99e0-347a6d00728e\" class=\"sk-toggleable__label sk-toggleable__label-arrow\">PowerTransformer</label><div class=\"sk-toggleable__content\"><pre>PowerTransformer()</pre></div></div></div><div class=\"sk-item\"><div class=\"sk-estimator sk-toggleable\"><input class=\"sk-toggleable__control sk-hidden--visually\" id=\"af59e670-9625-481a-85f8-97b789ce94cc\" type=\"checkbox\" ><label for=\"af59e670-9625-481a-85f8-97b789ce94cc\" class=\"sk-toggleable__label sk-toggleable__label-arrow\">RobustScaler</label><div class=\"sk-toggleable__content\"><pre>RobustScaler()</pre></div></div></div></div></div></div></div>"
      ],
      "text/plain": [
       "Pipeline(steps=[('YeoJohnsonTransformer', PowerTransformer()),\n",
       "                ('standardscalar', RobustScaler())])"
      ]
     },
     "metadata": {},
     "output_type": "display_data"
    }
   ],
   "source": [
    "display(ContPipeline)"
   ]
  },
  {
   "cell_type": "markdown",
   "id": "efae62f1",
   "metadata": {},
   "source": [
    "### creating column Transformer using above pipeline"
   ]
  },
  {
   "cell_type": "code",
   "execution_count": 16,
   "id": "6c5ce039",
   "metadata": {},
   "outputs": [],
   "source": [
    "ColumnTrans=ColumnTransformer(transformers=[\n",
    "    (\"ContPipeline\",ContPipeline,contCol),\n",
    "    (\"OrdCatPipeline\",OrdCatPipeline,ordcatcol),\n",
    "    (\"NorCatPipeline\",NorCatPipeline,norcatcol)\n",
    "],\n",
    "remainder = 'passthrough')"
   ]
  },
  {
   "cell_type": "markdown",
   "id": "9da97cfc",
   "metadata": {},
   "source": [
    "## creating a Linear Regression model"
   ]
  },
  {
   "cell_type": "code",
   "execution_count": 17,
   "id": "71763362",
   "metadata": {},
   "outputs": [],
   "source": [
    "from sklearn.linear_model import LinearRegression\n",
    "LR=LinearRegression()\n",
    "LRpipeline=Pipeline(steps=[\n",
    "    (\"processer\",ColumnTrans),\n",
    "    (\"knnRmodel\",LR)\n",
    "])"
   ]
  },
  {
   "cell_type": "code",
   "execution_count": 18,
   "id": "9aaf76f7",
   "metadata": {},
   "outputs": [
    {
     "data": {
      "text/html": [
       "<style>#sk-b1277ba3-e939-4e8a-95aa-827a7f5f380b {color: black;background-color: white;}#sk-b1277ba3-e939-4e8a-95aa-827a7f5f380b pre{padding: 0;}#sk-b1277ba3-e939-4e8a-95aa-827a7f5f380b div.sk-toggleable {background-color: white;}#sk-b1277ba3-e939-4e8a-95aa-827a7f5f380b label.sk-toggleable__label {cursor: pointer;display: block;width: 100%;margin-bottom: 0;padding: 0.3em;box-sizing: border-box;text-align: center;}#sk-b1277ba3-e939-4e8a-95aa-827a7f5f380b label.sk-toggleable__label-arrow:before {content: \"▸\";float: left;margin-right: 0.25em;color: #696969;}#sk-b1277ba3-e939-4e8a-95aa-827a7f5f380b label.sk-toggleable__label-arrow:hover:before {color: black;}#sk-b1277ba3-e939-4e8a-95aa-827a7f5f380b div.sk-estimator:hover label.sk-toggleable__label-arrow:before {color: black;}#sk-b1277ba3-e939-4e8a-95aa-827a7f5f380b div.sk-toggleable__content {max-height: 0;max-width: 0;overflow: hidden;text-align: left;background-color: #f0f8ff;}#sk-b1277ba3-e939-4e8a-95aa-827a7f5f380b div.sk-toggleable__content pre {margin: 0.2em;color: black;border-radius: 0.25em;background-color: #f0f8ff;}#sk-b1277ba3-e939-4e8a-95aa-827a7f5f380b input.sk-toggleable__control:checked~div.sk-toggleable__content {max-height: 200px;max-width: 100%;overflow: auto;}#sk-b1277ba3-e939-4e8a-95aa-827a7f5f380b input.sk-toggleable__control:checked~label.sk-toggleable__label-arrow:before {content: \"▾\";}#sk-b1277ba3-e939-4e8a-95aa-827a7f5f380b div.sk-estimator input.sk-toggleable__control:checked~label.sk-toggleable__label {background-color: #d4ebff;}#sk-b1277ba3-e939-4e8a-95aa-827a7f5f380b div.sk-label input.sk-toggleable__control:checked~label.sk-toggleable__label {background-color: #d4ebff;}#sk-b1277ba3-e939-4e8a-95aa-827a7f5f380b input.sk-hidden--visually {border: 0;clip: rect(1px 1px 1px 1px);clip: rect(1px, 1px, 1px, 1px);height: 1px;margin: -1px;overflow: hidden;padding: 0;position: absolute;width: 1px;}#sk-b1277ba3-e939-4e8a-95aa-827a7f5f380b div.sk-estimator {font-family: monospace;background-color: #f0f8ff;border: 1px dotted black;border-radius: 0.25em;box-sizing: border-box;margin-bottom: 0.5em;}#sk-b1277ba3-e939-4e8a-95aa-827a7f5f380b div.sk-estimator:hover {background-color: #d4ebff;}#sk-b1277ba3-e939-4e8a-95aa-827a7f5f380b div.sk-parallel-item::after {content: \"\";width: 100%;border-bottom: 1px solid gray;flex-grow: 1;}#sk-b1277ba3-e939-4e8a-95aa-827a7f5f380b div.sk-label:hover label.sk-toggleable__label {background-color: #d4ebff;}#sk-b1277ba3-e939-4e8a-95aa-827a7f5f380b div.sk-serial::before {content: \"\";position: absolute;border-left: 1px solid gray;box-sizing: border-box;top: 2em;bottom: 0;left: 50%;}#sk-b1277ba3-e939-4e8a-95aa-827a7f5f380b div.sk-serial {display: flex;flex-direction: column;align-items: center;background-color: white;padding-right: 0.2em;padding-left: 0.2em;}#sk-b1277ba3-e939-4e8a-95aa-827a7f5f380b div.sk-item {z-index: 1;}#sk-b1277ba3-e939-4e8a-95aa-827a7f5f380b div.sk-parallel {display: flex;align-items: stretch;justify-content: center;background-color: white;}#sk-b1277ba3-e939-4e8a-95aa-827a7f5f380b div.sk-parallel::before {content: \"\";position: absolute;border-left: 1px solid gray;box-sizing: border-box;top: 2em;bottom: 0;left: 50%;}#sk-b1277ba3-e939-4e8a-95aa-827a7f5f380b div.sk-parallel-item {display: flex;flex-direction: column;position: relative;background-color: white;}#sk-b1277ba3-e939-4e8a-95aa-827a7f5f380b div.sk-parallel-item:first-child::after {align-self: flex-end;width: 50%;}#sk-b1277ba3-e939-4e8a-95aa-827a7f5f380b div.sk-parallel-item:last-child::after {align-self: flex-start;width: 50%;}#sk-b1277ba3-e939-4e8a-95aa-827a7f5f380b div.sk-parallel-item:only-child::after {width: 0;}#sk-b1277ba3-e939-4e8a-95aa-827a7f5f380b div.sk-dashed-wrapped {border: 1px dashed gray;margin: 0 0.4em 0.5em 0.4em;box-sizing: border-box;padding-bottom: 0.4em;background-color: white;position: relative;}#sk-b1277ba3-e939-4e8a-95aa-827a7f5f380b div.sk-label label {font-family: monospace;font-weight: bold;background-color: white;display: inline-block;line-height: 1.2em;}#sk-b1277ba3-e939-4e8a-95aa-827a7f5f380b div.sk-label-container {position: relative;z-index: 2;text-align: center;}#sk-b1277ba3-e939-4e8a-95aa-827a7f5f380b div.sk-container {/* jupyter's `normalize.less` sets `[hidden] { display: none; }` but bootstrap.min.css set `[hidden] { display: none !important; }` so we also need the `!important` here to be able to override the default hidden behavior on the sphinx rendered scikit-learn.org. See: https://github.com/scikit-learn/scikit-learn/issues/21755 */display: inline-block !important;position: relative;}#sk-b1277ba3-e939-4e8a-95aa-827a7f5f380b div.sk-text-repr-fallback {display: none;}</style><div id=\"sk-b1277ba3-e939-4e8a-95aa-827a7f5f380b\" class=\"sk-top-container\"><div class=\"sk-text-repr-fallback\"><pre>Pipeline(steps=[(&#x27;processer&#x27;,\n",
       "                 ColumnTransformer(remainder=&#x27;passthrough&#x27;,\n",
       "                                   transformers=[(&#x27;ContPipeline&#x27;,\n",
       "                                                  Pipeline(steps=[(&#x27;YeoJohnsonTransformer&#x27;,\n",
       "                                                                   PowerTransformer()),\n",
       "                                                                  (&#x27;standardscalar&#x27;,\n",
       "                                                                   RobustScaler())]),\n",
       "                                                  [&#x27;total_bill&#x27;]),\n",
       "                                                 (&#x27;OrdCatPipeline&#x27;,\n",
       "                                                  Pipeline(steps=[(&#x27;Ordcatencode&#x27;,\n",
       "                                                                   OrdinalEncoder(categories=[[1,\n",
       "                                                                                               2,\n",
       "                                                                                               3,\n",
       "                                                                                               4,\n",
       "                                                                                               5,\n",
       "                                                                                               6]]))]),\n",
       "                                                  [&#x27;size&#x27;]),\n",
       "                                                 (&#x27;NorCatPipeline&#x27;,\n",
       "                                                  Pipeline(steps=[(&#x27;norcatencode&#x27;,\n",
       "                                                                   OneHotEncoder(handle_unknown=&#x27;ignore&#x27;,\n",
       "                                                                                 sparse=False))]),\n",
       "                                                  [&#x27;sex&#x27;, &#x27;time&#x27;, &#x27;day&#x27;,\n",
       "                                                   &#x27;smoker&#x27;])])),\n",
       "                (&#x27;knnRmodel&#x27;, LinearRegression())])</pre><b>Please rerun this cell to show the HTML repr or trust the notebook.</b></div><div class=\"sk-container\" hidden><div class=\"sk-item sk-dashed-wrapped\"><div class=\"sk-label-container\"><div class=\"sk-label sk-toggleable\"><input class=\"sk-toggleable__control sk-hidden--visually\" id=\"bbfd3607-d4ce-4951-8fc8-76f978772d31\" type=\"checkbox\" ><label for=\"bbfd3607-d4ce-4951-8fc8-76f978772d31\" class=\"sk-toggleable__label sk-toggleable__label-arrow\">Pipeline</label><div class=\"sk-toggleable__content\"><pre>Pipeline(steps=[(&#x27;processer&#x27;,\n",
       "                 ColumnTransformer(remainder=&#x27;passthrough&#x27;,\n",
       "                                   transformers=[(&#x27;ContPipeline&#x27;,\n",
       "                                                  Pipeline(steps=[(&#x27;YeoJohnsonTransformer&#x27;,\n",
       "                                                                   PowerTransformer()),\n",
       "                                                                  (&#x27;standardscalar&#x27;,\n",
       "                                                                   RobustScaler())]),\n",
       "                                                  [&#x27;total_bill&#x27;]),\n",
       "                                                 (&#x27;OrdCatPipeline&#x27;,\n",
       "                                                  Pipeline(steps=[(&#x27;Ordcatencode&#x27;,\n",
       "                                                                   OrdinalEncoder(categories=[[1,\n",
       "                                                                                               2,\n",
       "                                                                                               3,\n",
       "                                                                                               4,\n",
       "                                                                                               5,\n",
       "                                                                                               6]]))]),\n",
       "                                                  [&#x27;size&#x27;]),\n",
       "                                                 (&#x27;NorCatPipeline&#x27;,\n",
       "                                                  Pipeline(steps=[(&#x27;norcatencode&#x27;,\n",
       "                                                                   OneHotEncoder(handle_unknown=&#x27;ignore&#x27;,\n",
       "                                                                                 sparse=False))]),\n",
       "                                                  [&#x27;sex&#x27;, &#x27;time&#x27;, &#x27;day&#x27;,\n",
       "                                                   &#x27;smoker&#x27;])])),\n",
       "                (&#x27;knnRmodel&#x27;, LinearRegression())])</pre></div></div></div><div class=\"sk-serial\"><div class=\"sk-item sk-dashed-wrapped\"><div class=\"sk-label-container\"><div class=\"sk-label sk-toggleable\"><input class=\"sk-toggleable__control sk-hidden--visually\" id=\"05404ea7-32a0-451e-a513-9d994eaf760c\" type=\"checkbox\" ><label for=\"05404ea7-32a0-451e-a513-9d994eaf760c\" class=\"sk-toggleable__label sk-toggleable__label-arrow\">processer: ColumnTransformer</label><div class=\"sk-toggleable__content\"><pre>ColumnTransformer(remainder=&#x27;passthrough&#x27;,\n",
       "                  transformers=[(&#x27;ContPipeline&#x27;,\n",
       "                                 Pipeline(steps=[(&#x27;YeoJohnsonTransformer&#x27;,\n",
       "                                                  PowerTransformer()),\n",
       "                                                 (&#x27;standardscalar&#x27;,\n",
       "                                                  RobustScaler())]),\n",
       "                                 [&#x27;total_bill&#x27;]),\n",
       "                                (&#x27;OrdCatPipeline&#x27;,\n",
       "                                 Pipeline(steps=[(&#x27;Ordcatencode&#x27;,\n",
       "                                                  OrdinalEncoder(categories=[[1,\n",
       "                                                                              2,\n",
       "                                                                              3,\n",
       "                                                                              4,\n",
       "                                                                              5,\n",
       "                                                                              6]]))]),\n",
       "                                 [&#x27;size&#x27;]),\n",
       "                                (&#x27;NorCatPipeline&#x27;,\n",
       "                                 Pipeline(steps=[(&#x27;norcatencode&#x27;,\n",
       "                                                  OneHotEncoder(handle_unknown=&#x27;ignore&#x27;,\n",
       "                                                                sparse=False))]),\n",
       "                                 [&#x27;sex&#x27;, &#x27;time&#x27;, &#x27;day&#x27;, &#x27;smoker&#x27;])])</pre></div></div></div><div class=\"sk-parallel\"><div class=\"sk-parallel-item\"><div class=\"sk-item\"><div class=\"sk-label-container\"><div class=\"sk-label sk-toggleable\"><input class=\"sk-toggleable__control sk-hidden--visually\" id=\"4314bc5c-06ad-4e56-bcd2-72afd60ec163\" type=\"checkbox\" ><label for=\"4314bc5c-06ad-4e56-bcd2-72afd60ec163\" class=\"sk-toggleable__label sk-toggleable__label-arrow\">ContPipeline</label><div class=\"sk-toggleable__content\"><pre>[&#x27;total_bill&#x27;]</pre></div></div></div><div class=\"sk-serial\"><div class=\"sk-item\"><div class=\"sk-serial\"><div class=\"sk-item\"><div class=\"sk-estimator sk-toggleable\"><input class=\"sk-toggleable__control sk-hidden--visually\" id=\"e6a02a58-a90a-4aa8-9a26-e1da965a992a\" type=\"checkbox\" ><label for=\"e6a02a58-a90a-4aa8-9a26-e1da965a992a\" class=\"sk-toggleable__label sk-toggleable__label-arrow\">PowerTransformer</label><div class=\"sk-toggleable__content\"><pre>PowerTransformer()</pre></div></div></div><div class=\"sk-item\"><div class=\"sk-estimator sk-toggleable\"><input class=\"sk-toggleable__control sk-hidden--visually\" id=\"90e681b4-f06f-4935-9df5-1721f6d8a1dc\" type=\"checkbox\" ><label for=\"90e681b4-f06f-4935-9df5-1721f6d8a1dc\" class=\"sk-toggleable__label sk-toggleable__label-arrow\">RobustScaler</label><div class=\"sk-toggleable__content\"><pre>RobustScaler()</pre></div></div></div></div></div></div></div></div><div class=\"sk-parallel-item\"><div class=\"sk-item\"><div class=\"sk-label-container\"><div class=\"sk-label sk-toggleable\"><input class=\"sk-toggleable__control sk-hidden--visually\" id=\"aa18ce02-0152-4102-9a48-c156b78985ee\" type=\"checkbox\" ><label for=\"aa18ce02-0152-4102-9a48-c156b78985ee\" class=\"sk-toggleable__label sk-toggleable__label-arrow\">OrdCatPipeline</label><div class=\"sk-toggleable__content\"><pre>[&#x27;size&#x27;]</pre></div></div></div><div class=\"sk-serial\"><div class=\"sk-item\"><div class=\"sk-serial\"><div class=\"sk-item\"><div class=\"sk-estimator sk-toggleable\"><input class=\"sk-toggleable__control sk-hidden--visually\" id=\"3bc7dc89-fa2c-43ef-a0ac-3877f87d1126\" type=\"checkbox\" ><label for=\"3bc7dc89-fa2c-43ef-a0ac-3877f87d1126\" class=\"sk-toggleable__label sk-toggleable__label-arrow\">OrdinalEncoder</label><div class=\"sk-toggleable__content\"><pre>OrdinalEncoder(categories=[[1, 2, 3, 4, 5, 6]])</pre></div></div></div></div></div></div></div></div><div class=\"sk-parallel-item\"><div class=\"sk-item\"><div class=\"sk-label-container\"><div class=\"sk-label sk-toggleable\"><input class=\"sk-toggleable__control sk-hidden--visually\" id=\"53d0b0fc-41c1-4c9a-ba3d-09a9f364f8b2\" type=\"checkbox\" ><label for=\"53d0b0fc-41c1-4c9a-ba3d-09a9f364f8b2\" class=\"sk-toggleable__label sk-toggleable__label-arrow\">NorCatPipeline</label><div class=\"sk-toggleable__content\"><pre>[&#x27;sex&#x27;, &#x27;time&#x27;, &#x27;day&#x27;, &#x27;smoker&#x27;]</pre></div></div></div><div class=\"sk-serial\"><div class=\"sk-item\"><div class=\"sk-serial\"><div class=\"sk-item\"><div class=\"sk-estimator sk-toggleable\"><input class=\"sk-toggleable__control sk-hidden--visually\" id=\"099e7877-4144-46a8-a64c-5c13514e9ad4\" type=\"checkbox\" ><label for=\"099e7877-4144-46a8-a64c-5c13514e9ad4\" class=\"sk-toggleable__label sk-toggleable__label-arrow\">OneHotEncoder</label><div class=\"sk-toggleable__content\"><pre>OneHotEncoder(handle_unknown=&#x27;ignore&#x27;, sparse=False)</pre></div></div></div></div></div></div></div></div><div class=\"sk-parallel-item\"><div class=\"sk-item\"><div class=\"sk-label-container\"><div class=\"sk-label sk-toggleable\"><input class=\"sk-toggleable__control sk-hidden--visually\" id=\"c11af16f-2a6d-4e1d-af5e-f40895159c13\" type=\"checkbox\" ><label for=\"c11af16f-2a6d-4e1d-af5e-f40895159c13\" class=\"sk-toggleable__label sk-toggleable__label-arrow\">remainder</label><div class=\"sk-toggleable__content\"><pre>[]</pre></div></div></div><div class=\"sk-serial\"><div class=\"sk-item\"><div class=\"sk-estimator sk-toggleable\"><input class=\"sk-toggleable__control sk-hidden--visually\" id=\"eccc5428-1446-4961-ac99-5622dbbec993\" type=\"checkbox\" ><label for=\"eccc5428-1446-4961-ac99-5622dbbec993\" class=\"sk-toggleable__label sk-toggleable__label-arrow\">passthrough</label><div class=\"sk-toggleable__content\"><pre>passthrough</pre></div></div></div></div></div></div></div></div><div class=\"sk-item\"><div class=\"sk-estimator sk-toggleable\"><input class=\"sk-toggleable__control sk-hidden--visually\" id=\"ced8e01b-9f3a-412f-b39c-c50345da6612\" type=\"checkbox\" ><label for=\"ced8e01b-9f3a-412f-b39c-c50345da6612\" class=\"sk-toggleable__label sk-toggleable__label-arrow\">LinearRegression</label><div class=\"sk-toggleable__content\"><pre>LinearRegression()</pre></div></div></div></div></div></div></div>"
      ],
      "text/plain": [
       "Pipeline(steps=[('processer',\n",
       "                 ColumnTransformer(remainder='passthrough',\n",
       "                                   transformers=[('ContPipeline',\n",
       "                                                  Pipeline(steps=[('YeoJohnsonTransformer',\n",
       "                                                                   PowerTransformer()),\n",
       "                                                                  ('standardscalar',\n",
       "                                                                   RobustScaler())]),\n",
       "                                                  ['total_bill']),\n",
       "                                                 ('OrdCatPipeline',\n",
       "                                                  Pipeline(steps=[('Ordcatencode',\n",
       "                                                                   OrdinalEncoder(categories=[[1,\n",
       "                                                                                               2,\n",
       "                                                                                               3,\n",
       "                                                                                               4,\n",
       "                                                                                               5,\n",
       "                                                                                               6]]))]),\n",
       "                                                  ['size']),\n",
       "                                                 ('NorCatPipeline',\n",
       "                                                  Pipeline(steps=[('norcatencode',\n",
       "                                                                   OneHotEncoder(handle_unknown='ignore',\n",
       "                                                                                 sparse=False))]),\n",
       "                                                  ['sex', 'time', 'day',\n",
       "                                                   'smoker'])])),\n",
       "                ('knnRmodel', LinearRegression())])"
      ]
     },
     "execution_count": 18,
     "metadata": {},
     "output_type": "execute_result"
    }
   ],
   "source": [
    "LRpipeline.fit(xTrain,yTrain)"
   ]
  },
  {
   "cell_type": "code",
   "execution_count": 19,
   "id": "7fa51aaa",
   "metadata": {},
   "outputs": [],
   "source": [
    "yTrainPred=LRpipeline.predict(xTrain)\n",
    "yTestpred=LRpipeline.predict(xTest)"
   ]
  },
  {
   "cell_type": "code",
   "execution_count": 20,
   "id": "c17447c0",
   "metadata": {},
   "outputs": [
    {
     "data": {
      "text/plain": [
       "(1.1308776024877825, 0.9438361352979928)"
      ]
     },
     "execution_count": 20,
     "metadata": {},
     "output_type": "execute_result"
    }
   ],
   "source": [
    "from sklearn.metrics import mean_squared_error as mse\n",
    "mse(yTrain,yTrainPred),mse(yTest,yTestpred)"
   ]
  },
  {
   "cell_type": "code",
   "execution_count": null,
   "id": "d6909dcc",
   "metadata": {},
   "outputs": [],
   "source": []
  },
  {
   "cell_type": "markdown",
   "id": "30b854d7",
   "metadata": {},
   "source": [
    "# Linear Regression after Handling the outliers"
   ]
  },
  {
   "cell_type": "code",
   "execution_count": 21,
   "id": "bec42430",
   "metadata": {},
   "outputs": [],
   "source": [
    "df=sns.load_dataset(\"tips\")\n",
    "df=df.drop_duplicates()"
   ]
  },
  {
   "cell_type": "code",
   "execution_count": 22,
   "id": "da052182",
   "metadata": {},
   "outputs": [
    {
     "data": {
      "text/html": [
       "<div>\n",
       "<style scoped>\n",
       "    .dataframe tbody tr th:only-of-type {\n",
       "        vertical-align: middle;\n",
       "    }\n",
       "\n",
       "    .dataframe tbody tr th {\n",
       "        vertical-align: top;\n",
       "    }\n",
       "\n",
       "    .dataframe thead th {\n",
       "        text-align: right;\n",
       "    }\n",
       "</style>\n",
       "<table border=\"1\" class=\"dataframe\">\n",
       "  <thead>\n",
       "    <tr style=\"text-align: right;\">\n",
       "      <th></th>\n",
       "      <th>total_bill</th>\n",
       "      <th>tip</th>\n",
       "      <th>sex</th>\n",
       "      <th>smoker</th>\n",
       "      <th>day</th>\n",
       "      <th>time</th>\n",
       "      <th>size</th>\n",
       "    </tr>\n",
       "  </thead>\n",
       "  <tbody>\n",
       "    <tr>\n",
       "      <th>0</th>\n",
       "      <td>16.99</td>\n",
       "      <td>1.01</td>\n",
       "      <td>Female</td>\n",
       "      <td>No</td>\n",
       "      <td>Sun</td>\n",
       "      <td>Dinner</td>\n",
       "      <td>2</td>\n",
       "    </tr>\n",
       "    <tr>\n",
       "      <th>1</th>\n",
       "      <td>10.34</td>\n",
       "      <td>1.66</td>\n",
       "      <td>Male</td>\n",
       "      <td>No</td>\n",
       "      <td>Sun</td>\n",
       "      <td>Dinner</td>\n",
       "      <td>3</td>\n",
       "    </tr>\n",
       "    <tr>\n",
       "      <th>2</th>\n",
       "      <td>21.01</td>\n",
       "      <td>3.50</td>\n",
       "      <td>Male</td>\n",
       "      <td>No</td>\n",
       "      <td>Sun</td>\n",
       "      <td>Dinner</td>\n",
       "      <td>3</td>\n",
       "    </tr>\n",
       "    <tr>\n",
       "      <th>3</th>\n",
       "      <td>23.68</td>\n",
       "      <td>3.31</td>\n",
       "      <td>Male</td>\n",
       "      <td>No</td>\n",
       "      <td>Sun</td>\n",
       "      <td>Dinner</td>\n",
       "      <td>2</td>\n",
       "    </tr>\n",
       "    <tr>\n",
       "      <th>4</th>\n",
       "      <td>24.59</td>\n",
       "      <td>3.61</td>\n",
       "      <td>Female</td>\n",
       "      <td>No</td>\n",
       "      <td>Sun</td>\n",
       "      <td>Dinner</td>\n",
       "      <td>4</td>\n",
       "    </tr>\n",
       "    <tr>\n",
       "      <th>...</th>\n",
       "      <td>...</td>\n",
       "      <td>...</td>\n",
       "      <td>...</td>\n",
       "      <td>...</td>\n",
       "      <td>...</td>\n",
       "      <td>...</td>\n",
       "      <td>...</td>\n",
       "    </tr>\n",
       "    <tr>\n",
       "      <th>239</th>\n",
       "      <td>29.03</td>\n",
       "      <td>5.92</td>\n",
       "      <td>Male</td>\n",
       "      <td>No</td>\n",
       "      <td>Sat</td>\n",
       "      <td>Dinner</td>\n",
       "      <td>3</td>\n",
       "    </tr>\n",
       "    <tr>\n",
       "      <th>240</th>\n",
       "      <td>27.18</td>\n",
       "      <td>2.00</td>\n",
       "      <td>Female</td>\n",
       "      <td>Yes</td>\n",
       "      <td>Sat</td>\n",
       "      <td>Dinner</td>\n",
       "      <td>2</td>\n",
       "    </tr>\n",
       "    <tr>\n",
       "      <th>241</th>\n",
       "      <td>22.67</td>\n",
       "      <td>2.00</td>\n",
       "      <td>Male</td>\n",
       "      <td>Yes</td>\n",
       "      <td>Sat</td>\n",
       "      <td>Dinner</td>\n",
       "      <td>2</td>\n",
       "    </tr>\n",
       "    <tr>\n",
       "      <th>242</th>\n",
       "      <td>17.82</td>\n",
       "      <td>1.75</td>\n",
       "      <td>Male</td>\n",
       "      <td>No</td>\n",
       "      <td>Sat</td>\n",
       "      <td>Dinner</td>\n",
       "      <td>2</td>\n",
       "    </tr>\n",
       "    <tr>\n",
       "      <th>243</th>\n",
       "      <td>18.78</td>\n",
       "      <td>3.00</td>\n",
       "      <td>Female</td>\n",
       "      <td>No</td>\n",
       "      <td>Thur</td>\n",
       "      <td>Dinner</td>\n",
       "      <td>2</td>\n",
       "    </tr>\n",
       "  </tbody>\n",
       "</table>\n",
       "<p>243 rows × 7 columns</p>\n",
       "</div>"
      ],
      "text/plain": [
       "     total_bill   tip     sex smoker   day    time  size\n",
       "0         16.99  1.01  Female     No   Sun  Dinner     2\n",
       "1         10.34  1.66    Male     No   Sun  Dinner     3\n",
       "2         21.01  3.50    Male     No   Sun  Dinner     3\n",
       "3         23.68  3.31    Male     No   Sun  Dinner     2\n",
       "4         24.59  3.61  Female     No   Sun  Dinner     4\n",
       "..          ...   ...     ...    ...   ...     ...   ...\n",
       "239       29.03  5.92    Male     No   Sat  Dinner     3\n",
       "240       27.18  2.00  Female    Yes   Sat  Dinner     2\n",
       "241       22.67  2.00    Male    Yes   Sat  Dinner     2\n",
       "242       17.82  1.75    Male     No   Sat  Dinner     2\n",
       "243       18.78  3.00  Female     No  Thur  Dinner     2\n",
       "\n",
       "[243 rows x 7 columns]"
      ]
     },
     "execution_count": 22,
     "metadata": {},
     "output_type": "execute_result"
    }
   ],
   "source": [
    "df"
   ]
  },
  {
   "cell_type": "markdown",
   "id": "242e49ff",
   "metadata": {},
   "source": [
    "## checking for outliers"
   ]
  },
  {
   "cell_type": "code",
   "execution_count": 23,
   "id": "fdfcfec2",
   "metadata": {},
   "outputs": [
    {
     "data": {
      "text/plain": [
       "<AxesSubplot: >"
      ]
     },
     "execution_count": 23,
     "metadata": {},
     "output_type": "execute_result"
    },
    {
     "data": {
      "image/png": "[encoded data removed]",
      "text/plain": [
       "<Figure size 640x480 with 1 Axes>"
      ]
     },
     "metadata": {},
     "output_type": "display_data"
    }
   ],
   "source": [
    "sns.boxplot(df[\"total_bill\"])"
   ]
  },
  {
   "cell_type": "markdown",
   "id": "23092f8d",
   "metadata": {},
   "source": [
    "* There are some outliers in total_bill"
   ]
  },
  {
   "cell_type": "markdown",
   "id": "1dcaaf74",
   "metadata": {},
   "source": [
    "# Handling the outliers with IQR"
   ]
  },
  {
   "cell_type": "code",
   "execution_count": 24,
   "id": "dd405978",
   "metadata": {},
   "outputs": [],
   "source": [
    "Q1=df[\"total_bill\"].quantile(0.25)\n",
    "Q3 =df[\"total_bill\"].quantile(0.75)\n",
    "IQR = Q3-Q1\n",
    "low = Q1 - (1.5 * IQR)\n",
    "up = Q3 + (1.5 * IQR)\n",
    "med=df[\"total_bill\"].median()"
   ]
  },
  {
   "cell_type": "code",
   "execution_count": 25,
   "id": "22e3f424",
   "metadata": {},
   "outputs": [
    {
     "data": {
      "text/plain": [
       "(-2.8124999999999964, 40.36749999999999, 17.81)"
      ]
     },
     "execution_count": 25,
     "metadata": {},
     "output_type": "execute_result"
    }
   ],
   "source": [
    "low,up,med"
   ]
  },
  {
   "cell_type": "code",
   "execution_count": 26,
   "id": "98334bd4",
   "metadata": {},
   "outputs": [
    {
     "data": {
      "text/html": [
       "<div>\n",
       "<style scoped>\n",
       "    .dataframe tbody tr th:only-of-type {\n",
       "        vertical-align: middle;\n",
       "    }\n",
       "\n",
       "    .dataframe tbody tr th {\n",
       "        vertical-align: top;\n",
       "    }\n",
       "\n",
       "    .dataframe thead th {\n",
       "        text-align: right;\n",
       "    }\n",
       "</style>\n",
       "<table border=\"1\" class=\"dataframe\">\n",
       "  <thead>\n",
       "    <tr style=\"text-align: right;\">\n",
       "      <th></th>\n",
       "      <th>total_bill</th>\n",
       "      <th>tip</th>\n",
       "      <th>sex</th>\n",
       "      <th>smoker</th>\n",
       "      <th>day</th>\n",
       "      <th>time</th>\n",
       "      <th>size</th>\n",
       "    </tr>\n",
       "  </thead>\n",
       "  <tbody>\n",
       "    <tr>\n",
       "      <th>59</th>\n",
       "      <td>48.27</td>\n",
       "      <td>6.73</td>\n",
       "      <td>Male</td>\n",
       "      <td>No</td>\n",
       "      <td>Sat</td>\n",
       "      <td>Dinner</td>\n",
       "      <td>4</td>\n",
       "    </tr>\n",
       "    <tr>\n",
       "      <th>102</th>\n",
       "      <td>44.30</td>\n",
       "      <td>2.50</td>\n",
       "      <td>Female</td>\n",
       "      <td>Yes</td>\n",
       "      <td>Sat</td>\n",
       "      <td>Dinner</td>\n",
       "      <td>3</td>\n",
       "    </tr>\n",
       "    <tr>\n",
       "      <th>142</th>\n",
       "      <td>41.19</td>\n",
       "      <td>5.00</td>\n",
       "      <td>Male</td>\n",
       "      <td>No</td>\n",
       "      <td>Thur</td>\n",
       "      <td>Lunch</td>\n",
       "      <td>5</td>\n",
       "    </tr>\n",
       "    <tr>\n",
       "      <th>156</th>\n",
       "      <td>48.17</td>\n",
       "      <td>5.00</td>\n",
       "      <td>Male</td>\n",
       "      <td>No</td>\n",
       "      <td>Sun</td>\n",
       "      <td>Dinner</td>\n",
       "      <td>6</td>\n",
       "    </tr>\n",
       "    <tr>\n",
       "      <th>170</th>\n",
       "      <td>50.81</td>\n",
       "      <td>10.00</td>\n",
       "      <td>Male</td>\n",
       "      <td>Yes</td>\n",
       "      <td>Sat</td>\n",
       "      <td>Dinner</td>\n",
       "      <td>3</td>\n",
       "    </tr>\n",
       "    <tr>\n",
       "      <th>182</th>\n",
       "      <td>45.35</td>\n",
       "      <td>3.50</td>\n",
       "      <td>Male</td>\n",
       "      <td>Yes</td>\n",
       "      <td>Sun</td>\n",
       "      <td>Dinner</td>\n",
       "      <td>3</td>\n",
       "    </tr>\n",
       "    <tr>\n",
       "      <th>184</th>\n",
       "      <td>40.55</td>\n",
       "      <td>3.00</td>\n",
       "      <td>Male</td>\n",
       "      <td>Yes</td>\n",
       "      <td>Sun</td>\n",
       "      <td>Dinner</td>\n",
       "      <td>2</td>\n",
       "    </tr>\n",
       "    <tr>\n",
       "      <th>197</th>\n",
       "      <td>43.11</td>\n",
       "      <td>5.00</td>\n",
       "      <td>Female</td>\n",
       "      <td>Yes</td>\n",
       "      <td>Thur</td>\n",
       "      <td>Lunch</td>\n",
       "      <td>4</td>\n",
       "    </tr>\n",
       "    <tr>\n",
       "      <th>212</th>\n",
       "      <td>48.33</td>\n",
       "      <td>9.00</td>\n",
       "      <td>Male</td>\n",
       "      <td>No</td>\n",
       "      <td>Sat</td>\n",
       "      <td>Dinner</td>\n",
       "      <td>4</td>\n",
       "    </tr>\n",
       "  </tbody>\n",
       "</table>\n",
       "</div>"
      ],
      "text/plain": [
       "     total_bill    tip     sex smoker   day    time  size\n",
       "59        48.27   6.73    Male     No   Sat  Dinner     4\n",
       "102       44.30   2.50  Female    Yes   Sat  Dinner     3\n",
       "142       41.19   5.00    Male     No  Thur   Lunch     5\n",
       "156       48.17   5.00    Male     No   Sun  Dinner     6\n",
       "170       50.81  10.00    Male    Yes   Sat  Dinner     3\n",
       "182       45.35   3.50    Male    Yes   Sun  Dinner     3\n",
       "184       40.55   3.00    Male    Yes   Sun  Dinner     2\n",
       "197       43.11   5.00  Female    Yes  Thur   Lunch     4\n",
       "212       48.33   9.00    Male     No   Sat  Dinner     4"
      ]
     },
     "execution_count": 26,
     "metadata": {},
     "output_type": "execute_result"
    }
   ],
   "source": [
    "# checking for outliers\n",
    "df[(df[\"total_bill\"]<low) | (df[\"total_bill\"]>up)]"
   ]
  },
  {
   "cell_type": "code",
   "execution_count": 27,
   "id": "d563ee39",
   "metadata": {},
   "outputs": [],
   "source": [
    "df[\"total_bill\"] = df[\"total_bill\"].apply(lambda x : low if x < low  else  up  if x > up else x)"
   ]
  },
  {
   "cell_type": "code",
   "execution_count": 28,
   "id": "5d1c6850",
   "metadata": {},
   "outputs": [
    {
     "data": {
      "text/plain": [
       "<AxesSubplot: >"
      ]
     },
     "execution_count": 28,
     "metadata": {},
     "output_type": "execute_result"
    },
    {
     "data": {
      "image/png": "[encoded data removed]",
      "text/plain": [
       "<Figure size 640x480 with 1 Axes>"
      ]
     },
     "metadata": {},
     "output_type": "display_data"
    }
   ],
   "source": [
    "sns.boxplot([df[\"total_bill\"]])"
   ]
  },
  {
   "cell_type": "code",
   "execution_count": 29,
   "id": "619994cf",
   "metadata": {},
   "outputs": [
    {
     "data": {
      "text/plain": [
       "(-2.8124999999999964, 40.36749999999999, 17.81)"
      ]
     },
     "execution_count": 29,
     "metadata": {},
     "output_type": "execute_result"
    }
   ],
   "source": [
    "Q1=df[\"total_bill\"].quantile(0.25)\n",
    "Q3 =df[\"total_bill\"].quantile(0.75)\n",
    "IQR = Q3-Q1\n",
    "low = Q1 - (1.5 * IQR)\n",
    "up = Q3 + (1.5 * IQR)\n",
    "med=df[\"total_bill\"].median()\n",
    "low,up,med"
   ]
  },
  {
   "cell_type": "code",
   "execution_count": 30,
   "id": "6d4d64b3",
   "metadata": {},
   "outputs": [
    {
     "data": {
      "text/html": [
       "<div>\n",
       "<style scoped>\n",
       "    .dataframe tbody tr th:only-of-type {\n",
       "        vertical-align: middle;\n",
       "    }\n",
       "\n",
       "    .dataframe tbody tr th {\n",
       "        vertical-align: top;\n",
       "    }\n",
       "\n",
       "    .dataframe thead th {\n",
       "        text-align: right;\n",
       "    }\n",
       "</style>\n",
       "<table border=\"1\" class=\"dataframe\">\n",
       "  <thead>\n",
       "    <tr style=\"text-align: right;\">\n",
       "      <th></th>\n",
       "      <th>total_bill</th>\n",
       "      <th>tip</th>\n",
       "      <th>sex</th>\n",
       "      <th>smoker</th>\n",
       "      <th>day</th>\n",
       "      <th>time</th>\n",
       "      <th>size</th>\n",
       "    </tr>\n",
       "  </thead>\n",
       "  <tbody>\n",
       "  </tbody>\n",
       "</table>\n",
       "</div>"
      ],
      "text/plain": [
       "Empty DataFrame\n",
       "Columns: [total_bill, tip, sex, smoker, day, time, size]\n",
       "Index: []"
      ]
     },
     "execution_count": 30,
     "metadata": {},
     "output_type": "execute_result"
    }
   ],
   "source": [
    "df[(df[\"total_bill\"]<low) | (df[\"total_bill\"]>up)]"
   ]
  },
  {
   "cell_type": "markdown",
   "id": "28a88194",
   "metadata": {},
   "source": [
    "* There is no outliers"
   ]
  },
  {
   "cell_type": "code",
   "execution_count": 31,
   "id": "cec4644a",
   "metadata": {},
   "outputs": [],
   "source": [
    "X=df[[\"total_bill\",\"sex\",\"size\",\"time\",\"day\",\"smoker\"]]\n",
    "y=df[\"tip\"]"
   ]
  },
  {
   "cell_type": "markdown",
   "id": "26a03c01",
   "metadata": {},
   "source": [
    "# Spliting the data into train and test"
   ]
  },
  {
   "cell_type": "code",
   "execution_count": 32,
   "id": "9b2e70e7",
   "metadata": {},
   "outputs": [],
   "source": [
    "from sklearn.model_selection import train_test_split\n",
    "xTrain,xTest,yTrain,yTest=train_test_split(X,y,\n",
    "                                          test_size=0.23,\n",
    "                                          random_state=23)"
   ]
  },
  {
   "cell_type": "code",
   "execution_count": 33,
   "id": "0b4f9708",
   "metadata": {},
   "outputs": [
    {
     "data": {
      "text/plain": [
       "((187, 6), (56, 6), 187, 56)"
      ]
     },
     "execution_count": 33,
     "metadata": {},
     "output_type": "execute_result"
    }
   ],
   "source": [
    "xTrain.shape,xTest.shape,len(yTrain),len(yTest)"
   ]
  },
  {
   "cell_type": "code",
   "execution_count": 34,
   "id": "5c37ad0a",
   "metadata": {},
   "outputs": [],
   "source": [
    "contCol=[\"total_bill\"]\n",
    "ordcatcol=[\"size\"]\n",
    "norcatcol=[\"sex\",\"time\",\"day\",\"smoker\"]"
   ]
  },
  {
   "cell_type": "markdown",
   "id": "7fc4248b",
   "metadata": {},
   "source": [
    "# Data Preprocessing"
   ]
  },
  {
   "cell_type": "code",
   "execution_count": 35,
   "id": "07fea7d8",
   "metadata": {},
   "outputs": [],
   "source": [
    "from sklearn.preprocessing import PowerTransformer,RobustScaler\n",
    "ContPipeline=Pipeline(steps=[\n",
    "    (\"YeoJohnsonTransformer\",RobustScaler()),\n",
    "    (\"standardscalar\",PowerTransformer())\n",
    "])"
   ]
  },
  {
   "cell_type": "code",
   "execution_count": 36,
   "id": "cc63b4af",
   "metadata": {},
   "outputs": [],
   "source": [
    "from sklearn.preprocessing import OrdinalEncoder\n",
    "OrdCatPipeline=Pipeline(steps=[\n",
    "    (\"Ordcatencode\",OrdinalEncoder(categories=[[1,2,3,4,5,6]]))\n",
    "])"
   ]
  },
  {
   "cell_type": "code",
   "execution_count": 37,
   "id": "2392015a",
   "metadata": {},
   "outputs": [],
   "source": [
    "from sklearn.preprocessing import OneHotEncoder\n",
    "NorCatPipeline=Pipeline(steps=[\n",
    "    (\"norcatencode\",OneHotEncoder(sparse=False,handle_unknown=\"ignore\"))\n",
    "])"
   ]
  },
  {
   "cell_type": "code",
   "execution_count": 38,
   "id": "60b66e31",
   "metadata": {},
   "outputs": [],
   "source": [
    "ColumnTrans=ColumnTransformer(transformers=[\n",
    "    (\"ContPipeline\",ContPipeline,contCol),\n",
    "    (\"OrdCatPipeline\",OrdCatPipeline,ordcatcol),\n",
    "    (\"NorCatPipeline\",NorCatPipeline,norcatcol)\n",
    "],\n",
    "remainder = 'passthrough')"
   ]
  },
  {
   "cell_type": "markdown",
   "id": "80e094ac",
   "metadata": {},
   "source": [
    "# Create the Linear Regression Model "
   ]
  },
  {
   "cell_type": "code",
   "execution_count": 39,
   "id": "c0f355ad",
   "metadata": {},
   "outputs": [],
   "source": [
    "from sklearn.linear_model import LinearRegression\n",
    "LR=LinearRegression()\n",
    "LRpipeline=Pipeline(steps=[\n",
    "    (\"processer\",ColumnTrans),\n",
    "    (\"knnRmodel\",LR)\n",
    "])"
   ]
  },
  {
   "cell_type": "code",
   "execution_count": 40,
   "id": "c1505216",
   "metadata": {},
   "outputs": [
    {
     "data": {
      "text/html": [
       "<style>#sk-94ec56b6-712d-4345-aa86-f25ae5d3d981 {color: black;background-color: white;}#sk-94ec56b6-712d-4345-aa86-f25ae5d3d981 pre{padding: 0;}#sk-94ec56b6-712d-4345-aa86-f25ae5d3d981 div.sk-toggleable {background-color: white;}#sk-94ec56b6-712d-4345-aa86-f25ae5d3d981 label.sk-toggleable__label {cursor: pointer;display: block;width: 100%;margin-bottom: 0;padding: 0.3em;box-sizing: border-box;text-align: center;}#sk-94ec56b6-712d-4345-aa86-f25ae5d3d981 label.sk-toggleable__label-arrow:before {content: \"▸\";float: left;margin-right: 0.25em;color: #696969;}#sk-94ec56b6-712d-4345-aa86-f25ae5d3d981 label.sk-toggleable__label-arrow:hover:before {color: black;}#sk-94ec56b6-712d-4345-aa86-f25ae5d3d981 div.sk-estimator:hover label.sk-toggleable__label-arrow:before {color: black;}#sk-94ec56b6-712d-4345-aa86-f25ae5d3d981 div.sk-toggleable__content {max-height: 0;max-width: 0;overflow: hidden;text-align: left;background-color: #f0f8ff;}#sk-94ec56b6-712d-4345-aa86-f25ae5d3d981 div.sk-toggleable__content pre {margin: 0.2em;color: black;border-radius: 0.25em;background-color: #f0f8ff;}#sk-94ec56b6-712d-4345-aa86-f25ae5d3d981 input.sk-toggleable__control:checked~div.sk-toggleable__content {max-height: 200px;max-width: 100%;overflow: auto;}#sk-94ec56b6-712d-4345-aa86-f25ae5d3d981 input.sk-toggleable__control:checked~label.sk-toggleable__label-arrow:before {content: \"▾\";}#sk-94ec56b6-712d-4345-aa86-f25ae5d3d981 div.sk-estimator input.sk-toggleable__control:checked~label.sk-toggleable__label {background-color: #d4ebff;}#sk-94ec56b6-712d-4345-aa86-f25ae5d3d981 div.sk-label input.sk-toggleable__control:checked~label.sk-toggleable__label {background-color: #d4ebff;}#sk-94ec56b6-712d-4345-aa86-f25ae5d3d981 input.sk-hidden--visually {border: 0;clip: rect(1px 1px 1px 1px);clip: rect(1px, 1px, 1px, 1px);height: 1px;margin: -1px;overflow: hidden;padding: 0;position: absolute;width: 1px;}#sk-94ec56b6-712d-4345-aa86-f25ae5d3d981 div.sk-estimator {font-family: monospace;background-color: #f0f8ff;border: 1px dotted black;border-radius: 0.25em;box-sizing: border-box;margin-bottom: 0.5em;}#sk-94ec56b6-712d-4345-aa86-f25ae5d3d981 div.sk-estimator:hover {background-color: #d4ebff;}#sk-94ec56b6-712d-4345-aa86-f25ae5d3d981 div.sk-parallel-item::after {content: \"\";width: 100%;border-bottom: 1px solid gray;flex-grow: 1;}#sk-94ec56b6-712d-4345-aa86-f25ae5d3d981 div.sk-label:hover label.sk-toggleable__label {background-color: #d4ebff;}#sk-94ec56b6-712d-4345-aa86-f25ae5d3d981 div.sk-serial::before {content: \"\";position: absolute;border-left: 1px solid gray;box-sizing: border-box;top: 2em;bottom: 0;left: 50%;}#sk-94ec56b6-712d-4345-aa86-f25ae5d3d981 div.sk-serial {display: flex;flex-direction: column;align-items: center;background-color: white;padding-right: 0.2em;padding-left: 0.2em;}#sk-94ec56b6-712d-4345-aa86-f25ae5d3d981 div.sk-item {z-index: 1;}#sk-94ec56b6-712d-4345-aa86-f25ae5d3d981 div.sk-parallel {display: flex;align-items: stretch;justify-content: center;background-color: white;}#sk-94ec56b6-712d-4345-aa86-f25ae5d3d981 div.sk-parallel::before {content: \"\";position: absolute;border-left: 1px solid gray;box-sizing: border-box;top: 2em;bottom: 0;left: 50%;}#sk-94ec56b6-712d-4345-aa86-f25ae5d3d981 div.sk-parallel-item {display: flex;flex-direction: column;position: relative;background-color: white;}#sk-94ec56b6-712d-4345-aa86-f25ae5d3d981 div.sk-parallel-item:first-child::after {align-self: flex-end;width: 50%;}#sk-94ec56b6-712d-4345-aa86-f25ae5d3d981 div.sk-parallel-item:last-child::after {align-self: flex-start;width: 50%;}#sk-94ec56b6-712d-4345-aa86-f25ae5d3d981 div.sk-parallel-item:only-child::after {width: 0;}#sk-94ec56b6-712d-4345-aa86-f25ae5d3d981 div.sk-dashed-wrapped {border: 1px dashed gray;margin: 0 0.4em 0.5em 0.4em;box-sizing: border-box;padding-bottom: 0.4em;background-color: white;position: relative;}#sk-94ec56b6-712d-4345-aa86-f25ae5d3d981 div.sk-label label {font-family: monospace;font-weight: bold;background-color: white;display: inline-block;line-height: 1.2em;}#sk-94ec56b6-712d-4345-aa86-f25ae5d3d981 div.sk-label-container {position: relative;z-index: 2;text-align: center;}#sk-94ec56b6-712d-4345-aa86-f25ae5d3d981 div.sk-container {/* jupyter's `normalize.less` sets `[hidden] { display: none; }` but bootstrap.min.css set `[hidden] { display: none !important; }` so we also need the `!important` here to be able to override the default hidden behavior on the sphinx rendered scikit-learn.org. See: https://github.com/scikit-learn/scikit-learn/issues/21755 */display: inline-block !important;position: relative;}#sk-94ec56b6-712d-4345-aa86-f25ae5d3d981 div.sk-text-repr-fallback {display: none;}</style><div id=\"sk-94ec56b6-712d-4345-aa86-f25ae5d3d981\" class=\"sk-top-container\"><div class=\"sk-text-repr-fallback\"><pre>Pipeline(steps=[(&#x27;processer&#x27;,\n",
       "                 ColumnTransformer(remainder=&#x27;passthrough&#x27;,\n",
       "                                   transformers=[(&#x27;ContPipeline&#x27;,\n",
       "                                                  Pipeline(steps=[(&#x27;YeoJohnsonTransformer&#x27;,\n",
       "                                                                   RobustScaler()),\n",
       "                                                                  (&#x27;standardscalar&#x27;,\n",
       "                                                                   PowerTransformer())]),\n",
       "                                                  [&#x27;total_bill&#x27;]),\n",
       "                                                 (&#x27;OrdCatPipeline&#x27;,\n",
       "                                                  Pipeline(steps=[(&#x27;Ordcatencode&#x27;,\n",
       "                                                                   OrdinalEncoder(categories=[[1,\n",
       "                                                                                               2,\n",
       "                                                                                               3,\n",
       "                                                                                               4,\n",
       "                                                                                               5,\n",
       "                                                                                               6]]))]),\n",
       "                                                  [&#x27;size&#x27;]),\n",
       "                                                 (&#x27;NorCatPipeline&#x27;,\n",
       "                                                  Pipeline(steps=[(&#x27;norcatencode&#x27;,\n",
       "                                                                   OneHotEncoder(handle_unknown=&#x27;ignore&#x27;,\n",
       "                                                                                 sparse=False))]),\n",
       "                                                  [&#x27;sex&#x27;, &#x27;time&#x27;, &#x27;day&#x27;,\n",
       "                                                   &#x27;smoker&#x27;])])),\n",
       "                (&#x27;knnRmodel&#x27;, LinearRegression())])</pre><b>Please rerun this cell to show the HTML repr or trust the notebook.</b></div><div class=\"sk-container\" hidden><div class=\"sk-item sk-dashed-wrapped\"><div class=\"sk-label-container\"><div class=\"sk-label sk-toggleable\"><input class=\"sk-toggleable__control sk-hidden--visually\" id=\"89131b19-1081-41f8-b435-b1e51e8099ce\" type=\"checkbox\" ><label for=\"89131b19-1081-41f8-b435-b1e51e8099ce\" class=\"sk-toggleable__label sk-toggleable__label-arrow\">Pipeline</label><div class=\"sk-toggleable__content\"><pre>Pipeline(steps=[(&#x27;processer&#x27;,\n",
       "                 ColumnTransformer(remainder=&#x27;passthrough&#x27;,\n",
       "                                   transformers=[(&#x27;ContPipeline&#x27;,\n",
       "                                                  Pipeline(steps=[(&#x27;YeoJohnsonTransformer&#x27;,\n",
       "                                                                   RobustScaler()),\n",
       "                                                                  (&#x27;standardscalar&#x27;,\n",
       "                                                                   PowerTransformer())]),\n",
       "                                                  [&#x27;total_bill&#x27;]),\n",
       "                                                 (&#x27;OrdCatPipeline&#x27;,\n",
       "                                                  Pipeline(steps=[(&#x27;Ordcatencode&#x27;,\n",
       "                                                                   OrdinalEncoder(categories=[[1,\n",
       "                                                                                               2,\n",
       "                                                                                               3,\n",
       "                                                                                               4,\n",
       "                                                                                               5,\n",
       "                                                                                               6]]))]),\n",
       "                                                  [&#x27;size&#x27;]),\n",
       "                                                 (&#x27;NorCatPipeline&#x27;,\n",
       "                                                  Pipeline(steps=[(&#x27;norcatencode&#x27;,\n",
       "                                                                   OneHotEncoder(handle_unknown=&#x27;ignore&#x27;,\n",
       "                                                                                 sparse=False))]),\n",
       "                                                  [&#x27;sex&#x27;, &#x27;time&#x27;, &#x27;day&#x27;,\n",
       "                                                   &#x27;smoker&#x27;])])),\n",
       "                (&#x27;knnRmodel&#x27;, LinearRegression())])</pre></div></div></div><div class=\"sk-serial\"><div class=\"sk-item sk-dashed-wrapped\"><div class=\"sk-label-container\"><div class=\"sk-label sk-toggleable\"><input class=\"sk-toggleable__control sk-hidden--visually\" id=\"eb672c8c-54d6-4537-a696-cfcb8c39d44f\" type=\"checkbox\" ><label for=\"eb672c8c-54d6-4537-a696-cfcb8c39d44f\" class=\"sk-toggleable__label sk-toggleable__label-arrow\">processer: ColumnTransformer</label><div class=\"sk-toggleable__content\"><pre>ColumnTransformer(remainder=&#x27;passthrough&#x27;,\n",
       "                  transformers=[(&#x27;ContPipeline&#x27;,\n",
       "                                 Pipeline(steps=[(&#x27;YeoJohnsonTransformer&#x27;,\n",
       "                                                  RobustScaler()),\n",
       "                                                 (&#x27;standardscalar&#x27;,\n",
       "                                                  PowerTransformer())]),\n",
       "                                 [&#x27;total_bill&#x27;]),\n",
       "                                (&#x27;OrdCatPipeline&#x27;,\n",
       "                                 Pipeline(steps=[(&#x27;Ordcatencode&#x27;,\n",
       "                                                  OrdinalEncoder(categories=[[1,\n",
       "                                                                              2,\n",
       "                                                                              3,\n",
       "                                                                              4,\n",
       "                                                                              5,\n",
       "                                                                              6]]))]),\n",
       "                                 [&#x27;size&#x27;]),\n",
       "                                (&#x27;NorCatPipeline&#x27;,\n",
       "                                 Pipeline(steps=[(&#x27;norcatencode&#x27;,\n",
       "                                                  OneHotEncoder(handle_unknown=&#x27;ignore&#x27;,\n",
       "                                                                sparse=False))]),\n",
       "                                 [&#x27;sex&#x27;, &#x27;time&#x27;, &#x27;day&#x27;, &#x27;smoker&#x27;])])</pre></div></div></div><div class=\"sk-parallel\"><div class=\"sk-parallel-item\"><div class=\"sk-item\"><div class=\"sk-label-container\"><div class=\"sk-label sk-toggleable\"><input class=\"sk-toggleable__control sk-hidden--visually\" id=\"14e17133-3bd1-4b1b-b735-d566af53982c\" type=\"checkbox\" ><label for=\"14e17133-3bd1-4b1b-b735-d566af53982c\" class=\"sk-toggleable__label sk-toggleable__label-arrow\">ContPipeline</label><div class=\"sk-toggleable__content\"><pre>[&#x27;total_bill&#x27;]</pre></div></div></div><div class=\"sk-serial\"><div class=\"sk-item\"><div class=\"sk-serial\"><div class=\"sk-item\"><div class=\"sk-estimator sk-toggleable\"><input class=\"sk-toggleable__control sk-hidden--visually\" id=\"601640a0-0ac1-4284-a3c8-1df2e24a76a4\" type=\"checkbox\" ><label for=\"601640a0-0ac1-4284-a3c8-1df2e24a76a4\" class=\"sk-toggleable__label sk-toggleable__label-arrow\">RobustScaler</label><div class=\"sk-toggleable__content\"><pre>RobustScaler()</pre></div></div></div><div class=\"sk-item\"><div class=\"sk-estimator sk-toggleable\"><input class=\"sk-toggleable__control sk-hidden--visually\" id=\"3e0922e9-035e-4b25-8614-b32e7df73f10\" type=\"checkbox\" ><label for=\"3e0922e9-035e-4b25-8614-b32e7df73f10\" class=\"sk-toggleable__label sk-toggleable__label-arrow\">PowerTransformer</label><div class=\"sk-toggleable__content\"><pre>PowerTransformer()</pre></div></div></div></div></div></div></div></div><div class=\"sk-parallel-item\"><div class=\"sk-item\"><div class=\"sk-label-container\"><div class=\"sk-label sk-toggleable\"><input class=\"sk-toggleable__control sk-hidden--visually\" id=\"c28a1a0f-8fa9-40e0-90c7-221860bc2ef0\" type=\"checkbox\" ><label for=\"c28a1a0f-8fa9-40e0-90c7-221860bc2ef0\" class=\"sk-toggleable__label sk-toggleable__label-arrow\">OrdCatPipeline</label><div class=\"sk-toggleable__content\"><pre>[&#x27;size&#x27;]</pre></div></div></div><div class=\"sk-serial\"><div class=\"sk-item\"><div class=\"sk-serial\"><div class=\"sk-item\"><div class=\"sk-estimator sk-toggleable\"><input class=\"sk-toggleable__control sk-hidden--visually\" id=\"8cd7c36c-de32-4316-bbdd-84aa7fd85391\" type=\"checkbox\" ><label for=\"8cd7c36c-de32-4316-bbdd-84aa7fd85391\" class=\"sk-toggleable__label sk-toggleable__label-arrow\">OrdinalEncoder</label><div class=\"sk-toggleable__content\"><pre>OrdinalEncoder(categories=[[1, 2, 3, 4, 5, 6]])</pre></div></div></div></div></div></div></div></div><div class=\"sk-parallel-item\"><div class=\"sk-item\"><div class=\"sk-label-container\"><div class=\"sk-label sk-toggleable\"><input class=\"sk-toggleable__control sk-hidden--visually\" id=\"ca1577e2-81cf-44d0-98d1-55aae7f2e476\" type=\"checkbox\" ><label for=\"ca1577e2-81cf-44d0-98d1-55aae7f2e476\" class=\"sk-toggleable__label sk-toggleable__label-arrow\">NorCatPipeline</label><div class=\"sk-toggleable__content\"><pre>[&#x27;sex&#x27;, &#x27;time&#x27;, &#x27;day&#x27;, &#x27;smoker&#x27;]</pre></div></div></div><div class=\"sk-serial\"><div class=\"sk-item\"><div class=\"sk-serial\"><div class=\"sk-item\"><div class=\"sk-estimator sk-toggleable\"><input class=\"sk-toggleable__control sk-hidden--visually\" id=\"760fcb3b-7828-442a-8df8-8028bb9e8838\" type=\"checkbox\" ><label for=\"760fcb3b-7828-442a-8df8-8028bb9e8838\" class=\"sk-toggleable__label sk-toggleable__label-arrow\">OneHotEncoder</label><div class=\"sk-toggleable__content\"><pre>OneHotEncoder(handle_unknown=&#x27;ignore&#x27;, sparse=False)</pre></div></div></div></div></div></div></div></div><div class=\"sk-parallel-item\"><div class=\"sk-item\"><div class=\"sk-label-container\"><div class=\"sk-label sk-toggleable\"><input class=\"sk-toggleable__control sk-hidden--visually\" id=\"7372f5c5-4f66-47d6-8e99-971c45e003d4\" type=\"checkbox\" ><label for=\"7372f5c5-4f66-47d6-8e99-971c45e003d4\" class=\"sk-toggleable__label sk-toggleable__label-arrow\">remainder</label><div class=\"sk-toggleable__content\"><pre>[]</pre></div></div></div><div class=\"sk-serial\"><div class=\"sk-item\"><div class=\"sk-estimator sk-toggleable\"><input class=\"sk-toggleable__control sk-hidden--visually\" id=\"0b26de7c-12cc-4012-b3da-f6f7784dad41\" type=\"checkbox\" ><label for=\"0b26de7c-12cc-4012-b3da-f6f7784dad41\" class=\"sk-toggleable__label sk-toggleable__label-arrow\">passthrough</label><div class=\"sk-toggleable__content\"><pre>passthrough</pre></div></div></div></div></div></div></div></div><div class=\"sk-item\"><div class=\"sk-estimator sk-toggleable\"><input class=\"sk-toggleable__control sk-hidden--visually\" id=\"52aab3ac-f084-4683-af0d-bf6da0fe4bed\" type=\"checkbox\" ><label for=\"52aab3ac-f084-4683-af0d-bf6da0fe4bed\" class=\"sk-toggleable__label sk-toggleable__label-arrow\">LinearRegression</label><div class=\"sk-toggleable__content\"><pre>LinearRegression()</pre></div></div></div></div></div></div></div>"
      ],
      "text/plain": [
       "Pipeline(steps=[('processer',\n",
       "                 ColumnTransformer(remainder='passthrough',\n",
       "                                   transformers=[('ContPipeline',\n",
       "                                                  Pipeline(steps=[('YeoJohnsonTransformer',\n",
       "                                                                   RobustScaler()),\n",
       "                                                                  ('standardscalar',\n",
       "                                                                   PowerTransformer())]),\n",
       "                                                  ['total_bill']),\n",
       "                                                 ('OrdCatPipeline',\n",
       "                                                  Pipeline(steps=[('Ordcatencode',\n",
       "                                                                   OrdinalEncoder(categories=[[1,\n",
       "                                                                                               2,\n",
       "                                                                                               3,\n",
       "                                                                                               4,\n",
       "                                                                                               5,\n",
       "                                                                                               6]]))]),\n",
       "                                                  ['size']),\n",
       "                                                 ('NorCatPipeline',\n",
       "                                                  Pipeline(steps=[('norcatencode',\n",
       "                                                                   OneHotEncoder(handle_unknown='ignore',\n",
       "                                                                                 sparse=False))]),\n",
       "                                                  ['sex', 'time', 'day',\n",
       "                                                   'smoker'])])),\n",
       "                ('knnRmodel', LinearRegression())])"
      ]
     },
     "execution_count": 40,
     "metadata": {},
     "output_type": "execute_result"
    }
   ],
   "source": [
    "LRpipeline.fit(xTrain,yTrain)"
   ]
  },
  {
   "cell_type": "code",
   "execution_count": 41,
   "id": "9d4e8462",
   "metadata": {},
   "outputs": [],
   "source": [
    "yTrainPred=LRpipeline.predict(xTrain)\n",
    "yTestpred=LRpipeline.predict(xTest)"
   ]
  },
  {
   "cell_type": "code",
   "execution_count": 42,
   "id": "418fce1d",
   "metadata": {},
   "outputs": [
    {
     "data": {
      "text/plain": [
       "(1.1598796490415535, 0.8536901580869598)"
      ]
     },
     "execution_count": 42,
     "metadata": {},
     "output_type": "execute_result"
    }
   ],
   "source": [
    "from sklearn.metrics import mean_squared_error as mse\n",
    "mse(yTrain,yTrainPred),mse(yTest,yTestpred)"
   ]
  }
 ],
 "metadata": {
  "kernelspec": {
   "display_name": "Python 3 (ipykernel)",
   "language": "python",
   "name": "python3"
  },
  "language_info": {
   "codemirror_mode": {
    "name": "ipython",
    "version": 3
   },
   "file_extension": ".py",
   "mimetype": "text/x-python",
   "name": "python",
   "nbconvert_exporter": "python",
   "pygments_lexer": "ipython3",
   "version": "3.9.15"
  }
 },
 "nbformat": 4,
 "nbformat_minor": 5
}
